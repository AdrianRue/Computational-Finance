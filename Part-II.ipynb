{
 "cells": [
  {
   "cell_type": "code",
   "execution_count": null,
   "metadata": {},
   "outputs": [],
   "source": [
    "import numpy as np \n",
    "import matplotlib.pyplot as plt\n",
    "from scipy.stats import norm\n",
    "from timer import Timer"
   ]
  },
  {
   "cell_type": "code",
   "execution_count": null,
   "metadata": {},
   "outputs": [],
   "source": [
    "def buildTree(S, vol, T, N):\n",
    "    dt = T / N\n",
    "    matrix = np.zeros((N + 1, N + 1))\n",
    "    matrix[0, 0] = S\n",
    "    u = np.exp(vol * np.sqrt(dt))\n",
    "    d = np.exp(-vol * np.sqrt(dt))\n",
    "    \n",
    "    for i in np.arange(N + 1):\n",
    "        for j in np.arange(i + 1):\n",
    "            matrix[i, j] = S * u**(j) * d**(i - j)\n",
    "    return matrix\n",
    "\n",
    "def valueOptionMatrix(tree, T, r, K, vol, N):\n",
    "    dt = T / N\n",
    "    u = np.exp(vol * np.sqrt(dt))\n",
    "    d = np.exp(-vol * np.sqrt(dt))\n",
    "    p = (np.exp(r * dt) - d) / (u - d)\n",
    "    columns = tree.shape[1]\n",
    "    rows = tree.shape[0]\n",
    "\n",
    "    # Print the original tree for reference\n",
    "    #print(tree)\n",
    "\n",
    "    # Walk backward, add the payoff function in the last row\n",
    "    for c in np.arange(columns):\n",
    "        S = tree[rows - 1, c]\n",
    "        tree[rows - 1, c] = max(S - K, 0)\n",
    "\n",
    "    # For all other rows, combine from previous rows\n",
    "    for i in np.arange(rows - 1)[::-1]:\n",
    "        for j in np.arange(i + 1):\n",
    "            down = tree[i + 1, j]\n",
    "            up = tree[i + 1, j + 1]\n",
    "            tree[i, j] = np.exp(-r * dt) * (p * up + (1 - p) * down)\n",
    "\n",
    "\n",
    "    return tree\n",
    "\n",
    "def black_scholes_call(S, K, T, r, sigma):\n",
    "    d1 = (np.log(S / K) + (r + 0.5 * sigma**2) * T) / (sigma * np.sqrt(T))\n",
    "    d2 = d1 - sigma * np.sqrt(T)\n",
    "\n",
    "    call_price = S * norm.cdf(d1) - K * np.exp(-r * T) * norm.cdf(d2)\n",
    "    return call_price, norm.cdf(d1)\n",
    "\n",
    "def hedge_param(tree, option_tree):\n",
    "    delta = (option_tree[1,1] - option_tree[1,0]) / (tree[1,1] - tree[1,0])\n",
    "    # print(option_tree[1,1], option_tree[1,0], tree[1,1], tree[1,0])\n",
    "    return delta\n",
    "\n"
   ]
  },
  {
   "cell_type": "code",
   "execution_count": null,
   "metadata": {},
   "outputs": [],
   "source": [
    "S = 100\n",
    "T = 1.\n",
    "N = 50\n",
    "K = 99\n",
    "r = 0.06\n",
    "sigma = 0.2"
   ]
  },
  {
   "cell_type": "code",
   "execution_count": null,
   "metadata": {},
   "outputs": [],
   "source": [
    "print(\"Value of european call option using binomial tree with N=50: \", valueOptionMatrix(buildTree(S, sigma, T, N), T, r, K, sigma, N)[0, 0])"
   ]
  },
  {
   "cell_type": "code",
   "execution_count": null,
   "metadata": {},
   "outputs": [],
   "source": [
    "N = np.arange(1 , 300)\n",
    "optionPriceAnalytical = black_scholes_call(S, K, T, r, sigma)[0] \n",
    "f0s = []\n",
    "time_run = []\n"
   ]
  },
  {
   "cell_type": "code",
   "execution_count": null,
   "metadata": {},
   "outputs": [],
   "source": [
    "for n in N:\n",
    "    \n",
    "    t = Timer()\n",
    "    t.start()\n",
    "    treeN = buildTree(S, sigma, T, n) # TODO\n",
    "    priceApproximatedly = valueOptionMatrix(treeN, T, r, K, sigma, n)\n",
    "    time_run.append(t.stop())\n",
    "    f0s.append(priceApproximatedly[0,0])\n"
   ]
  },
  {
   "cell_type": "code",
   "execution_count": null,
   "metadata": {},
   "outputs": [],
   "source": [
    "plt.plot(N, f0s, label='Approximated')\n",
    "plt.plot(N, optionPriceAnalytical*np.ones(len(N)), label='Analytical')\n",
    "plt.xlabel('N')\n",
    "plt.ylabel('Option Price with sigma=0.2')\n",
    "plt.legend()\n",
    "plt.show()\n"
   ]
  },
  {
   "cell_type": "code",
   "execution_count": null,
   "metadata": {},
   "outputs": [],
   "source": [
    "\n",
    "sigma = [0.05, 0.1, 0.15, 0.2, 0.25, 0.3, 0.35, 0.40, 0.45]\n",
    "N = np.arange(1 , 300)\n",
    "S = 100\n",
    "\n",
    "# Checking how many time steps it takes certain sigmas to converge\n",
    "for vol in sigma:\n",
    "\n",
    "\n",
    "    res_prev = 0\n",
    "    option_price = []\n",
    "    for n in N:\n",
    "\n",
    "        treeN = buildTree(S, vol, T, n)\n",
    "        priceApproximatedly = valueOptionMatrix(treeN, T, r, K, vol, n)\n",
    "        diff = (abs(priceApproximatedly[0,0] - res_prev)) / ((priceApproximatedly[0,0] + res_prev) / 2) * 100\n",
    "        res_prev = priceApproximatedly[0,0]\n",
    "        option_price.append(priceApproximatedly[0,0])\n",
    "        # If change in percentage is within 0.01%\n",
    "        if diff < 0.1:\n",
    "            print(\"Volatility\", vol, \"converges after\", n, \"time steps\")\n",
    "            break\n",
    "    plt.plot(N[:len(option_price)], option_price, label='Volatility: ' + str(vol))\n",
    "plt.xlabel('N')\n",
    "plt.ylabel('Option Price with N')\n",
    "plt.legend()\n",
    "plt.show()\n",
    "\n",
    "    \n"
   ]
  },
  {
   "cell_type": "code",
   "execution_count": null,
   "metadata": {},
   "outputs": [],
   "source": [
    "N =200\n",
    "hedge_param_list = []\n",
    "delta_list = []\n",
    "\n",
    "for vol in sigma:\n",
    "    hedge = hedge_param(buildTree(S, vol, T, N), valueOptionMatrix(buildTree(S, vol, T, N), T, r, K, vol, N))\n",
    "    hedge_param_list.append(hedge)\n",
    "    delta = black_scholes_call(S, K, T, r, vol)[1]\n",
    "    delta_list.append(delta)\n",
    "\n",
    "plt.plot(sigma, hedge_param_list, label='Hedge parameter')\n",
    "plt.plot(sigma, delta_list, label='Delta')\n",
    "plt.xlabel('Volatility')\n",
    "plt.ylabel('Hedge parameter and Delta')\n",
    "plt.legend()\n",
    "plt.show()\n"
   ]
  }
 ],
 "metadata": {
  "language_info": {
   "name": "python"
  }
 },
 "nbformat": 4,
 "nbformat_minor": 2
}
