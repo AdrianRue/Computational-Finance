{
 "cells": [
  {
   "cell_type": "code",
   "execution_count": 9,
   "metadata": {},
   "outputs": [],
   "source": [
    "import numpy as np \n",
    "import matplotlib.pyplot as plt\n",
    "from scipy.stats import norm\n",
    "from timer import Timer"
   ]
  },
  {
   "cell_type": "code",
   "execution_count": 10,
   "metadata": {},
   "outputs": [],
   "source": [
    "def buildTree(S, vol, T, N):\n",
    "    dt = T / N\n",
    "    matrix = np.zeros((N + 1, N + 1))\n",
    "    matrix[0, 0] = S\n",
    "    u = np.exp(vol * np.sqrt(dt))\n",
    "    d = np.exp(-vol * np.sqrt(dt))\n",
    "    \n",
    "    for i in np.arange(N + 1):\n",
    "        for j in np.arange(i + 1):\n",
    "            matrix[i, j] = S * u**(j) * d**(i - j)\n",
    "    return matrix\n",
    "\n",
    "def valueOptionMatrix(tree, T, r, K, vol, N):\n",
    "    dt = T / N\n",
    "    u = np.exp(vol * np.sqrt(dt))\n",
    "    d = np.exp(-vol * np.sqrt(dt))\n",
    "    p = (np.exp(r * dt) - d) / (u - d)\n",
    "    columns = tree.shape[1]\n",
    "    rows = tree.shape[0]\n",
    "\n",
    "    # Print the original tree for reference\n",
    "    #print(tree)\n",
    "\n",
    "    # Walk backward, add the payoff function in the last row\n",
    "    for c in np.arange(columns):\n",
    "        S = tree[rows - 1, c]\n",
    "        tree[rows - 1, c] = max(S - K, 0)\n",
    "\n",
    "    # For all other rows, combine from previous rows\n",
    "    for i in np.arange(rows - 1)[::-1]:\n",
    "        for j in np.arange(i + 1):\n",
    "            down = tree[i + 1, j]\n",
    "            up = tree[i + 1, j + 1]\n",
    "            tree[i, j] = np.exp(-r * dt) * (p * up + (1 - p) * down)\n",
    "\n",
    "\n",
    "    return tree\n",
    "\n",
    "def black_scholes_call(S, K, T, r, sigma):\n",
    "    d1 = (np.log(S / K) + (r + 0.5 * sigma**2) * T) / (sigma * np.sqrt(T))\n",
    "    d2 = d1 - sigma * np.sqrt(T)\n",
    "\n",
    "    call_price = S * norm.cdf(d1) - K * np.exp(-r * T) * norm.cdf(d2)\n",
    "    return call_price, norm.cdf(d1)\n",
    "\n",
    "def hedge_param(tree, option_tree):\n",
    "    delta = (option_tree[1,1] - option_tree[1,0]) / (tree[1,1] - tree[1,0])\n",
    "    # print(option_tree[1,1], option_tree[1,0], tree[1,1], tree[1,0])\n",
    "    return delta\n",
    "\n"
   ]
  },
  {
   "cell_type": "code",
   "execution_count": 11,
   "metadata": {},
   "outputs": [],
   "source": [
    "S = 100\n",
    "T = 1.\n",
    "N = 50\n",
    "K = 99\n",
    "r = 0.06\n",
    "sigma = 0.2"
   ]
  },
  {
   "cell_type": "code",
   "execution_count": 12,
   "metadata": {},
   "outputs": [
    {
     "name": "stdout",
     "output_type": "stream",
     "text": [
      "Value of european call option using binomial tree with N=50:  11.546434850755071\n"
     ]
    }
   ],
   "source": [
    "print(\"Value of european call option using binomial tree with N=50: \", valueOptionMatrix(buildTree(S, sigma, T, N), T, r, K, sigma, N)[0, 0])"
   ]
  },
  {
   "cell_type": "code",
   "execution_count": 13,
   "metadata": {},
   "outputs": [],
   "source": [
    "N = np.arange(1 , 300)\n",
    "optionPriceAnalytical = black_scholes_call(S, K, T, r, sigma)[0] \n",
    "f0s = []\n",
    "time_run = []\n"
   ]
  },
  {
   "cell_type": "code",
   "execution_count": 14,
   "metadata": {},
   "outputs": [],
   "source": [
    "for n in N:\n",
    "    \n",
    "    t = Timer()\n",
    "    t.start()\n",
    "    treeN = buildTree(S, sigma, T, n) # TODO\n",
    "    priceApproximatedly = valueOptionMatrix(treeN, T, r, K, sigma, n)\n",
    "    time_run.append(t.stop())\n",
    "    f0s.append(priceApproximatedly[0,0])\n"
   ]
  },
  {
   "cell_type": "code",
   "execution_count": null,
   "metadata": {},
   "outputs": [],
   "source": [
    "plt.plot(N, f0s, label='Approximated')\n",
    "plt.plot(N, optionPriceAnalytical*np.ones(len(N)), label='Analytical')\n",
    "plt.xlabel('N')\n",
    "plt.ylabel('Option Price with sigma=0.2')\n",
    "plt.legend()\n",
    "plt.show()\n"
   ]
  },
  {
   "cell_type": "code",
   "execution_count": null,
   "metadata": {},
   "outputs": [],
   "source": [
    "plt.plot(N, time_run, '.')\n",
    "plt.plot(N, np.poly1d(np.polyfit(N, time_run, 2))(N))\n",
    "plt.xlabel('N')\n",
    "plt.ylabel('time of simulation')\n",
    "plt.show()"
   ]
  }
 ],
 "metadata": {
  "kernelspec": {
   "display_name": "my_env",
   "language": "python",
   "name": "my_env"
  },
  "language_info": {
   "codemirror_mode": {
    "name": "ipython",
    "version": 3
   },
   "file_extension": ".py",
   "mimetype": "text/x-python",
   "name": "python",
   "nbconvert_exporter": "python",
   "pygments_lexer": "ipython3",
   "version": "3.11.4"
  }
 },
 "nbformat": 4,
 "nbformat_minor": 2
}
